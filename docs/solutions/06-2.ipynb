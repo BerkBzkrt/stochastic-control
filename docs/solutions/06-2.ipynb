{
 "cells": [
  {
   "cell_type": "markdown",
   "metadata": {},
   "source": [
    "We start with the code for an MDP class in Assignment 5"
   ]
  },
  {
   "cell_type": "code",
   "execution_count": 1,
   "metadata": {
    "collapsed": true
   },
   "outputs": [],
   "source": [
    "type MDP \n",
    "    stateSize  :: Int\n",
    "    actionSize :: Int\n",
    "    bellmanUpdate! :: Function\n",
    "    c :: Array{Float64, 2}\n",
    "    P :: Array{ Array{Float64, 2}, 1}\n",
    "    \n",
    "    function MDP(c, P)\n",
    "        (n, m) = size(c)\n",
    "        \n",
    "        if length(P) != m\n",
    "            error(\"Number of transition matrices does not match the number of actions\")\n",
    "        end\n",
    "        \n",
    "        P_concatenated = vcat(P...)\n",
    "        if size(P_concatenated) != (n*m, n)\n",
    "            error(\"Size of transition and reward matrices are inconsistent\")\n",
    "        end\n",
    "        \n",
    "        is_square(Pi) = size(Pi) == (n,n)\n",
    "        is_row_stochastic(Pi) = isapprox(sum(Pi,2), ones(n); atol=100*eps(Float64))\n",
    "        is_stopping_action(Pi) = Pi - zero(Pi)\n",
    "        \n",
    "        for Pi in P\n",
    "            if !is_square(Pi)\n",
    "                error(\"Transition matrix is not a square matrix\")\n",
    "                print(size(Pi))\n",
    "                print(n)\n",
    "            elseif !(is_row_stochastic(Pi) || is_stopping_action(Pi))\n",
    "                error(\"Transition matrix is not row stochastic\")\n",
    "            end\n",
    "        end\n",
    "        \n",
    "        function update!(v, g, vOld; discount=1)\n",
    "            Q = c + discount * reshape(P_concatenated * vOld, n, m)\n",
    "            \n",
    "            for x=1:n\n",
    "                g[x], v[x] = 1, Q[x,1]\n",
    "                for u=2:m\n",
    "                    if Q[x,u] < v[x]\n",
    "                        g[x], v[x] = u, Q[x,u]\n",
    "                    end\n",
    "                end\n",
    "            end\n",
    "        end\n",
    "        \n",
    "        new(n, m, update!, c, P)\n",
    "    end\n",
    "end"
   ]
  },
  {
   "cell_type": "markdown",
   "metadata": {},
   "source": [
    "And define the function to evaluate a policy"
   ]
  },
  {
   "cell_type": "code",
   "execution_count": 2,
   "metadata": {},
   "outputs": [
    {
     "data": {
      "text/plain": [
       "evaluate (generic function with 1 method)"
      ]
     },
     "execution_count": 2,
     "metadata": {},
     "output_type": "execute_result"
    }
   ],
   "source": [
    "function evaluate(m::MDP, g;\n",
    "                  discount=1.0)\n",
    "    n = size(m.c, 1)\n",
    "    c = zeros(n)\n",
    "    P = zeros(n,n)\n",
    "        \n",
    "    for x=1:n\n",
    "        u = g[x]\n",
    "        c[x] = m.c[x,u]\n",
    "        P[x,:] = m.P[u][x,:]\n",
    "    end\n",
    "    \n",
    "    return (eye(n)-discount*P)\\c\n",
    "end"
   ]
  },
  {
   "cell_type": "markdown",
   "metadata": {},
   "source": [
    "## Value Iteration"
   ]
  },
  {
   "cell_type": "code",
   "execution_count": null,
   "metadata": {
    "collapsed": true
   },
   "outputs": [],
   "source": []
  },
  {
   "cell_type": "markdown",
   "metadata": {},
   "source": [
    "## Policy Iteration"
   ]
  },
  {
   "cell_type": "code",
   "execution_count": 35,
   "metadata": {},
   "outputs": [
    {
     "data": {
      "text/plain": [
       "policyIteration (generic function with 1 method)"
      ]
     },
     "execution_count": 35,
     "metadata": {},
     "output_type": "execute_result"
    }
   ],
   "source": [
    "function policyIteration(model::MDP, initial_g; discount=0.9)\n",
    "    evaluate_policy(g) = evaluate(model, g; discount=discount)\n",
    "    update!(v, g, initial_v) = model.bellmanUpdate!(v, g, initial_v; discount=discount)\n",
    "    \n",
    "    g_next = copy(initial_g)\n",
    "    v_next = evaluate_policy(g_next)\n",
    "   \n",
    "    g_previous = zero(initial_g)\n",
    "    v_previous = zero(v_next)\n",
    "    \n",
    "    iterationCount = 1\n",
    "    \n",
    "    while g_next != g_previous\n",
    "        iterationCount += 1\n",
    "        g_previous[:] = g_next[:]\n",
    "        v_previous[:] = v_next[:]\n",
    "        update!(v_next, g_next, v_previous)\n",
    "        v_next = evaluate_policy(g_next)\n",
    "        print([g_previous g_next])\n",
    "    end\n",
    "    \n",
    "    info(@sprintf(\"Policy Iteration converged in %d iterations\", iterationCount))\n",
    "    return (v_next, g_next)\n",
    "    \n",
    "end"
   ]
  },
  {
   "cell_type": "markdown",
   "metadata": {},
   "source": [
    "## System Described in the Question"
   ]
  },
  {
   "cell_type": "code",
   "execution_count": 4,
   "metadata": {
    "scrolled": true
   },
   "outputs": [
    {
     "data": {
      "text/plain": [
       "MDP(9, 3, update!, [0.0 2.0 6.0; 1.8 3.5 7.2; … ; 13.8 15.5 19.2; 15.8 17.5 21.2], Array{Float64,2}[[0.4 0.6 … 0.0 0.0; 0.08 0.44 … 0.0 0.0; … ; 0.0 0.0 … 0.44 0.48; 0.0 0.0 … 0.2 0.8], [0.4 0.6 … 0.0 0.0; 0.2 0.5 … 0.0 0.0; … ; 0.0 0.0 … 0.5 0.3; 0.0 0.0 … 0.5 0.5], [0.4 0.6 … 0.0 0.0; 0.32 0.56 … 0.0 0.0; … ; 0.0 0.0 … 0.56 0.12; 0.0 0.0 … 0.8 0.2]])"
      ]
     },
     "execution_count": 4,
     "metadata": {},
     "output_type": "execute_result"
    }
   ],
   "source": [
    "const rate        = [0.2 0.5 0.8]\n",
    "const arrivalRate = 0.6\n",
    "\n",
    "const serviceCost = [0 2 6]\n",
    "const holdingCost = 2\n",
    "\n",
    "const R = 1\n",
    "const M = 8\n",
    "const A = length(rate)\n",
    "\n",
    "P = [ spzeros(Float64, M+1, M+1) for u = 1:A]\n",
    "c = zeros(Float64, M+1, A)\n",
    "\n",
    "# Initialize cost matrix\n",
    "c[1,:] = 0 \n",
    "\n",
    "for x = 1:(M+1)\n",
    "    for u = 1:A\n",
    "        if x == 1 \n",
    "          c[x,u] = serviceCost[u] \n",
    "        else\n",
    "          c[x,u] = (x-1) * holdingCost + serviceCost[u] - R*rate[u]\n",
    "        end\n",
    "    end\n",
    "end\n",
    "\n",
    "# Initialize Probability matrix\n",
    "for x = 2:M\n",
    "    for u = 1:A\n",
    "        P[u][x, x-1] = (1 - arrivalRate) * rate[u]\n",
    "        P[u][x, x]   = (1 - arrivalRate) * (1 - rate[u]) + arrivalRate * rate[u]\n",
    "        P[u][x, x+1] = arrivalRate * ( 1 - rate[u])\n",
    "    end\n",
    "end\n",
    "\n",
    "for u = 1:A\n",
    "    P[u][1,1] = (1 - arrivalRate) \n",
    "    P[u][1,2] = arrivalRate\n",
    "\n",
    "    P[u][M+1, M+1] = (1 - rate[u])\n",
    "    P[u][M+1, M  ] = rate[u]\n",
    "end\n",
    "\n",
    "model = MDP(c,P)"
   ]
  },
  {
   "cell_type": "code",
   "execution_count": 5,
   "metadata": {},
   "outputs": [
    {
     "data": {
      "text/plain": [
       "9-element Array{Int64,1}:\n",
       " 1\n",
       " 1\n",
       " 1\n",
       " 1\n",
       " 1\n",
       " 1\n",
       " 1\n",
       " 1\n",
       " 1"
      ]
     },
     "execution_count": 5,
     "metadata": {},
     "output_type": "execute_result"
    }
   ],
   "source": [
    "v0 = zeros(Float64, M+1)\n",
    "g0 = zeros(Int,M+1) + 1"
   ]
  },
  {
   "cell_type": "code",
   "execution_count": 36,
   "metadata": {
    "scrolled": true
   },
   "outputs": [
    {
     "name": "stdout",
     "output_type": "stream",
     "text": [
      "[1 1; 1 3; 1 3; 1 3; 1 2; 1 2; 1 2; 1 1; 1 1][1 1; 3 2; 3 3; 3 3; 2 3; 2 3; 2 2; 1 2; 1 1][1 1; 2 2; 3 3; 3 3; 3 3; 3 3; 2 2; 2 2; 1 1]"
     ]
    },
    {
     "name": "stderr",
     "output_type": "stream",
     "text": [
      "\u001b[1m\u001b[36mINFO: \u001b[39m\u001b[22m\u001b[36mPolicy Iteration converged in 4 iterations\n",
      "\u001b[39m"
     ]
    },
    {
     "data": {
      "text/plain": [
       "([47.2656, 56.0185, 69.6383, 85.2527, 102.125, 119.457, 135.541, 146.463, 150.584], [1, 2, 3, 3, 3, 3, 2, 2, 1])"
      ]
     },
     "execution_count": 36,
     "metadata": {},
     "output_type": "execute_result"
    }
   ],
   "source": [
    "(vP,gP) = policyIteration(model, g0; discount=0.9)"
   ]
  },
  {
   "cell_type": "code",
   "execution_count": 37,
   "metadata": {},
   "outputs": [
    {
     "data": {
      "text/plain": [
       "9-element Array{Float64,1}:\n",
       "  47.2656\n",
       "  56.0185\n",
       "  69.6383\n",
       "  85.2527\n",
       " 102.125 \n",
       " 119.457 \n",
       " 135.541 \n",
       " 146.463 \n",
       " 150.584 "
      ]
     },
     "execution_count": 37,
     "metadata": {},
     "output_type": "execute_result"
    }
   ],
   "source": [
    "vN = evaluate(model,gP;discount=0.9)"
   ]
  },
  {
   "cell_type": "code",
   "execution_count": 38,
   "metadata": {},
   "outputs": [
    {
     "data": {
      "text/plain": [
       "9×2 Array{Float64,2}:\n",
       "  47.2656   47.2656\n",
       "  56.0185   56.0185\n",
       "  69.6383   69.6383\n",
       "  85.2527   85.2527\n",
       " 102.125   102.125 \n",
       " 119.457   119.457 \n",
       " 135.541   135.541 \n",
       " 146.463   146.463 \n",
       " 150.584   150.584 "
      ]
     },
     "execution_count": 38,
     "metadata": {},
     "output_type": "execute_result"
    }
   ],
   "source": [
    "[vP vN]"
   ]
  },
  {
   "cell_type": "code",
   "execution_count": 28,
   "metadata": {},
   "outputs": [
    {
     "ename": "LoadError",
     "evalue": "\u001b[91mUndefVarError: gN not defined\u001b[39m",
     "output_type": "error",
     "traceback": [
      "\u001b[91mUndefVarError: gN not defined\u001b[39m",
      ""
     ]
    }
   ],
   "source": []
  },
  {
   "cell_type": "code",
   "execution_count": null,
   "metadata": {
    "collapsed": true
   },
   "outputs": [],
   "source": []
  }
 ],
 "metadata": {
  "kernelspec": {
   "display_name": "Julia 0.6.0",
   "language": "julia",
   "name": "julia-0.6"
  },
  "language_info": {
   "file_extension": ".jl",
   "mimetype": "application/julia",
   "name": "julia",
   "version": "0.6.2"
  }
 },
 "nbformat": 4,
 "nbformat_minor": 2
}
