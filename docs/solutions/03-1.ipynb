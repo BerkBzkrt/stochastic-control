{
 "cells": [
  {
   "cell_type": "markdown",
   "metadata": {},
   "source": [
    "We start by writing a general class for solving a finite horizon MDP\n",
    " "
   ]
  },
  {
   "cell_type": "code",
   "execution_count": 1,
   "metadata": {},
   "outputs": [],
   "source": [
    "type MDP \n",
    "    stateSize  :: Int\n",
    "    actionSize :: Int\n",
    "    bellmanUpdate! :: Function\n",
    "    \n",
    "    function MDP(c, P)\n",
    "        (n, m) = size(c)\n",
    "        \n",
    "        if length(P) != m\n",
    "            error(\"Number of transition matrices does not match the number of actions\")\n",
    "        end\n",
    "        \n",
    "        P_concatenated = vcat(P...)\n",
    "        if size(P_concatenated) != (n*m, n)\n",
    "            error(\"Size of transition and reward matrices are inconsistent\")\n",
    "        end\n",
    "        \n",
    "        is_square(Pi) = size(Pi) == (n,n)\n",
    "        is_row_stochastic(Pi) = isapprox(sum(Pi,2), ones(n); atol=100*eps(Float64))\n",
    "        is_stopping_action(Pi) = Pi - zero(Pi)\n",
    "        \n",
    "        for Pi in P\n",
    "            if !is_square(Pi)\n",
    "                error(\"Transition matrix is not a square matrix\")\n",
    "                print(size(Pi))\n",
    "                print(n)\n",
    "            elseif !(is_row_stochastic(Pi) || is_stopping_action(Pi))\n",
    "                error(\"Transition matrix is not row stochastic\")\n",
    "            end\n",
    "        end\n",
    "        \n",
    "        function update!(v, g, vOld; discount=1)\n",
    "            Q = c + discount * reshape(P_concatenated * vOld, n, m)\n",
    "            \n",
    "            for x=1:n\n",
    "                g[x], v[x] = 1, Q[x,1]\n",
    "                for u=2:m\n",
    "                    if Q[x,u] < v[x]\n",
    "                        g[x], v[x] = u, Q[x,u]\n",
    "                    end\n",
    "                end\n",
    "            end\n",
    "        end\n",
    "        \n",
    "        new(n, m, update!)\n",
    "    end\n",
    "end\n",
    "            \n",
    "            "
   ]
  },
  {
   "cell_type": "markdown",
   "metadata": {},
   "source": [
    "Now we define a function for solving a finite horizon MDP"
   ]
  },
  {
   "cell_type": "code",
   "execution_count": 2,
   "metadata": {},
   "outputs": [
    {
     "data": {
      "text/plain": [
       "finiteHorizon (generic function with 1 method)"
      ]
     },
     "execution_count": 2,
     "metadata": {},
     "output_type": "execute_result"
    }
   ],
   "source": [
    "function finiteHorizon(m::MDP, final_v;\n",
    "                       discount = 1.0,\n",
    "                       horizon :: Int = 10)\n",
    "    \n",
    "    update!(vUpdated, gUpdated, v) = m.bellmanUpdate!(vUpdated, gUpdated, v; discount=discount)\n",
    "        \n",
    "    v = [ zero(final_v) for stage = 1 : horizon ]        \n",
    "    g = [ zeros(Int,   size(final_v)) for stage = 1 : horizon ]\n",
    "\n",
    "\n",
    "    update!(v[horizon], g[horizon], final_v)\n",
    "    for stage in horizon-1: -1 : 1\n",
    "        update!(v[stage], g[stage], v[stage+1]) \n",
    "    end\n",
    "    return (v,g)    \n",
    "end\n"
   ]
  },
  {
   "cell_type": "markdown",
   "metadata": {},
   "source": [
    "Now, we set the parameters of the model"
   ]
  },
  {
   "cell_type": "code",
   "execution_count": 3,
   "metadata": {},
   "outputs": [
    {
     "data": {
      "text/plain": [
       "3"
      ]
     },
     "execution_count": 3,
     "metadata": {},
     "output_type": "execute_result"
    }
   ],
   "source": [
    "const rate        = [0.2 0.5 0.8]\n",
    "const arrivalRate = 0.6\n",
    "\n",
    "const serviceCost = [0 2 6]\n",
    "const holdingCost = 2\n",
    "\n",
    "const R = 1\n",
    "const M = 8\n",
    "const A = length(rate)"
   ]
  },
  {
   "cell_type": "markdown",
   "metadata": {},
   "source": [
    "Next, we construct the cost matrix and the transition matrix"
   ]
  },
  {
   "cell_type": "code",
   "execution_count": 4,
   "metadata": {
    "collapsed": true
   },
   "outputs": [],
   "source": [
    "P = [ spzeros(Float64, M+1, M+1) for u = 1:A]\n",
    "c = zeros(Float64, M+1, A)\n",
    "\n",
    "# Initialize cost matrix\n",
    "c[1,:] = 0 \n",
    "\n",
    "for x = 1:(M+1)\n",
    "    for u = 1:A\n",
    "        if x == 1 \n",
    "          c[x,u] = serviceCost[u] \n",
    "        else\n",
    "          c[x,u] = (x-1) * holdingCost + serviceCost[u] - R*rate[u]\n",
    "        end\n",
    "    end\n",
    "end\n",
    "\n",
    "# Initialize Probability matrix\n",
    "for x = 2:M\n",
    "    for u = 1:A\n",
    "        P[u][x, x-1] = (1 - arrivalRate) * rate[u]\n",
    "        P[u][x, x]   = (1 - arrivalRate) * (1 - rate[u]) + arrivalRate * rate[u]\n",
    "        P[u][x, x+1] = arrivalRate * ( 1 - rate[u])\n",
    "    end\n",
    "end\n",
    "\n",
    "for u = 1:A\n",
    "    P[u][1,1] = (1 - arrivalRate) \n",
    "    P[u][1,2] = arrivalRate\n",
    "\n",
    "    P[u][M+1, M+1] = (1 - rate[u])\n",
    "    P[u][M+1, M  ] = rate[u]\n",
    "end"
   ]
  },
  {
   "cell_type": "code",
   "execution_count": 5,
   "metadata": {},
   "outputs": [
    {
     "data": {
      "text/plain": [
       "MDP(9, 3, update!)"
      ]
     },
     "execution_count": 5,
     "metadata": {},
     "output_type": "execute_result"
    }
   ],
   "source": [
    "model = MDP(c,P)"
   ]
  },
  {
   "cell_type": "code",
   "execution_count": 6,
   "metadata": {},
   "outputs": [
    {
     "data": {
      "text/plain": [
       "(Array{Float64,1}[[94.6954, 104.924, 123.537, 149.171, 180.089, 214.201, 248.714, 278.442, 289.822], [88.5741, 98.7763, 117.212, 142.418, 172.58, 205.588, 238.718, 267.033, 277.612], [82.4705, 92.6432, 110.879, 135.611, 164.95, 196.773, 228.431, 255.246, 264.977], [76.3869, 86.5262, 104.539, 128.744, 157.184, 187.739, 217.836, 243.055, 251.899], [70.3259, 80.4275, 98.1879, 121.807, 149.266, 178.471, 206.918, 230.422, 238.377], [64.2907, 74.3493, 91.8239, 114.789, 141.178, 168.95, 195.685, 217.254, 224.499], [58.2851, 68.2944, 85.4436, 107.677, 132.898, 159.152, 184.145, 203.628, 210.37], [52.3137, 62.266, 79.0423, 100.457, 124.402, 149.052, 172.284, 189.746, 195.994], [46.3823, 56.268, 72.6136, 93.1077, 115.666, 138.624, 160.08, 175.664, 181.327], [40.4983, 50.3049, 66.1481, 85.6089, 106.661, 127.842, 147.508, 161.387, 166.562], [34.672, 44.3825, 59.6309, 77.9363, 97.3555, 116.686, 134.53, 146.929, 151.721], [28.9989, 38.4541, 53.0708, 70.0497, 87.7151, 105.159, 121.069, 132.34, 136.816], [23.6048, 32.5949, 46.4525, 61.892, 77.7121, 93.2573, 107.226, 117.681, 121.849], [18.5633, 26.9659, 39.6644, 53.4279, 67.3312, 80.9146, 93.3266, 102.934, 106.828], [13.9005, 21.6718, 32.8329, 44.7119, 56.6847, 68.4881, 79.4453, 88.0212, 91.78], [9.65791, 16.7289, 26.2526, 36.2027, 46.2001, 56.1471, 65.5819, 73.0832, 76.7042], [5.9495, 12.1302, 19.9129, 27.9003, 35.9, 43.9, 51.7235, 58.1338, 61.5968], [3.0816, 7.86144, 13.8013, 19.8, 25.8, 31.8, 37.8, 43.224, 46.44], [1.08, 4.416, 8.4, 12.4, 16.4, 20.4, 24.4, 28.4, 31.2], [0.0, 1.8, 3.8, 5.8, 7.8, 9.8, 11.8, 13.8, 15.8]], Array{Int64,1}[[1, 3, 3, 3, 3, 3, 3, 3, 2], [1, 3, 3, 3, 3, 3, 3, 3, 2], [1, 3, 3, 3, 3, 3, 3, 3, 2], [1, 3, 3, 3, 3, 3, 3, 3, 2], [1, 3, 3, 3, 3, 3, 3, 3, 2], [1, 3, 3, 3, 3, 3, 3, 2, 2], [1, 3, 3, 3, 3, 3, 3, 2, 2], [1, 3, 3, 3, 3, 3, 3, 2, 1], [1, 3, 3, 3, 3, 3, 3, 2, 1], [1, 3, 3, 3, 3, 3, 3, 2, 1], [1, 3, 3, 3, 3, 3, 3, 2, 1], [1, 2, 3, 3, 3, 3, 2, 2, 1], [1, 2, 3, 3, 3, 3, 2, 2, 1], [1, 2, 2, 2, 2, 2, 2, 2, 1], [1, 2, 2, 2, 2, 2, 2, 1, 1], [1, 2, 2, 2, 2, 2, 2, 1, 1], [1, 1, 2, 2, 2, 2, 1, 1, 1], [1, 1, 1, 1, 1, 1, 1, 1, 1], [1, 1, 1, 1, 1, 1, 1, 1, 1], [1, 1, 1, 1, 1, 1, 1, 1, 1]])"
      ]
     },
     "execution_count": 6,
     "metadata": {},
     "output_type": "execute_result"
    }
   ],
   "source": [
    "(v,g) = finiteHorizon(model, zeros(M+1); horizon=20)"
   ]
  },
  {
   "cell_type": "code",
   "execution_count": 7,
   "metadata": {},
   "outputs": [
    {
     "data": {
      "text/plain": [
       "4-element Array{Int64,1}:\n",
       "  1\n",
       " 10\n",
       " 15\n",
       " 20"
      ]
     },
     "execution_count": 7,
     "metadata": {},
     "output_type": "execute_result"
    }
   ],
   "source": [
    "t = [1,10,15,20]"
   ]
  },
  {
   "cell_type": "code",
   "execution_count": 8,
   "metadata": {},
   "outputs": [
    {
     "data": {
      "text/plain": [
       "4-element Array{Array{Int64,1},1}:\n",
       " [0, 2, 2, 2, 2, 2, 2, 2, 1]\n",
       " [0, 2, 2, 2, 2, 2, 2, 1, 0]\n",
       " [0, 1, 1, 1, 1, 1, 1, 0, 0]\n",
       " [0, 0, 0, 0, 0, 0, 0, 0, 0]"
      ]
     },
     "execution_count": 8,
     "metadata": {},
     "output_type": "execute_result"
    }
   ],
   "source": [
    "g[t] - 1"
   ]
  },
  {
   "cell_type": "code",
   "execution_count": 9,
   "metadata": {},
   "outputs": [
    {
     "data": {
      "text/plain": [
       "Plots.GRBackend()"
      ]
     },
     "execution_count": 9,
     "metadata": {},
     "output_type": "execute_result"
    }
   ],
   "source": [
    "using Plots\n",
    "gr()"
   ]
  },
  {
   "cell_type": "code",
   "execution_count": 10,
   "metadata": {},
   "outputs": [
    {
     "data": {
      "text/html": [
       "<?xml version=\"1.0\" encoding=\"utf-8\"?>\n",
       "<svg xmlns=\"http://www.w3.org/2000/svg\" xmlns:xlink=\"http://www.w3.org/1999/xlink\" width=\"600\" height=\"400\" viewBox=\"0 0 600 400\">\n",
       "<defs>\n",
       "  <clipPath id=\"clip00\">\n",
       "    <rect x=\"0\" y=\"0\" width=\"600\" height=\"400\"/>\n",
       "  </clipPath>\n",
       "</defs>\n",
       "<polygon clip-path=\"url(#clip00)\" points=\"\n",
       "0,400 600,400 600,0 0,0 \n",
       "  \" fill=\"#ffffff\" fill-opacity=\"1\"/>\n",
       "<defs>\n",
       "  <clipPath id=\"clip01\">\n",
       "    <rect x=\"120\" y=\"0\" width=\"421\" height=\"400\"/>\n",
       "  </clipPath>\n",
       "</defs>\n",
       "<polygon clip-path=\"url(#clip00)\" points=\"\n",
       "39.3701,376.378 592.126,376.378 592.126,7.87402 39.3701,7.87402 \n",
       "  \" fill=\"#ffffff\" fill-opacity=\"1\"/>\n",
       "<defs>\n",
       "  <clipPath id=\"clip02\">\n",
       "    <rect x=\"39\" y=\"7\" width=\"554\" height=\"370\"/>\n",
       "  </clipPath>\n",
       "</defs>\n",
       "<polyline clip-path=\"url(#clip02)\" style=\"stroke:#000000; stroke-width:1; stroke-opacity:0.5; fill:none\" stroke-dasharray=\"1, 2\" points=\"\n",
       "  152.789,370.85 152.789,13.4016 \n",
       "  \"/>\n",
       "<polyline clip-path=\"url(#clip02)\" style=\"stroke:#000000; stroke-width:1; stroke-opacity:0.5; fill:none\" stroke-dasharray=\"1, 2\" points=\"\n",
       "  315.748,370.85 315.748,13.4016 \n",
       "  \"/>\n",
       "<polyline clip-path=\"url(#clip02)\" style=\"stroke:#000000; stroke-width:1; stroke-opacity:0.5; fill:none\" stroke-dasharray=\"1, 2\" points=\"\n",
       "  478.707,370.85 478.707,13.4016 \n",
       "  \"/>\n",
       "<polyline clip-path=\"url(#clip02)\" style=\"stroke:#000000; stroke-width:1; stroke-opacity:0.5; fill:none\" stroke-dasharray=\"1, 2\" points=\"\n",
       "  47.6614,365.949 583.835,365.949 \n",
       "  \"/>\n",
       "<polyline clip-path=\"url(#clip02)\" style=\"stroke:#000000; stroke-width:1; stroke-opacity:0.5; fill:none\" stroke-dasharray=\"1, 2\" points=\"\n",
       "  47.6614,245.997 583.835,245.997 \n",
       "  \"/>\n",
       "<polyline clip-path=\"url(#clip02)\" style=\"stroke:#000000; stroke-width:1; stroke-opacity:0.5; fill:none\" stroke-dasharray=\"1, 2\" points=\"\n",
       "  47.6614,126.046 583.835,126.046 \n",
       "  \"/>\n",
       "<polyline clip-path=\"url(#clip00)\" style=\"stroke:#000000; stroke-width:1; stroke-opacity:1; fill:none\" points=\"\n",
       "  39.3701,376.378 592.126,376.378 \n",
       "  \"/>\n",
       "<polyline clip-path=\"url(#clip00)\" style=\"stroke:#000000; stroke-width:1; stroke-opacity:1; fill:none\" points=\"\n",
       "  152.789,376.378 152.789,370.85 \n",
       "  \"/>\n",
       "<polyline clip-path=\"url(#clip00)\" style=\"stroke:#000000; stroke-width:1; stroke-opacity:1; fill:none\" points=\"\n",
       "  315.748,376.378 315.748,370.85 \n",
       "  \"/>\n",
       "<polyline clip-path=\"url(#clip00)\" style=\"stroke:#000000; stroke-width:1; stroke-opacity:1; fill:none\" points=\"\n",
       "  478.707,376.378 478.707,370.85 \n",
       "  \"/>\n",
       "<polyline clip-path=\"url(#clip00)\" style=\"stroke:#000000; stroke-width:1; stroke-opacity:1; fill:none\" points=\"\n",
       "  39.3701,376.378 39.3701,7.87402 \n",
       "  \"/>\n",
       "<polyline clip-path=\"url(#clip00)\" style=\"stroke:#000000; stroke-width:1; stroke-opacity:1; fill:none\" points=\"\n",
       "  39.3701,365.949 47.6614,365.949 \n",
       "  \"/>\n",
       "<polyline clip-path=\"url(#clip00)\" style=\"stroke:#000000; stroke-width:1; stroke-opacity:1; fill:none\" points=\"\n",
       "  39.3701,245.997 47.6614,245.997 \n",
       "  \"/>\n",
       "<polyline clip-path=\"url(#clip00)\" style=\"stroke:#000000; stroke-width:1; stroke-opacity:1; fill:none\" points=\"\n",
       "  39.3701,126.046 47.6614,126.046 \n",
       "  \"/>\n",
       "<g clip-path=\"url(#clip00)\">\n",
       "<text style=\"fill:#000000; fill-opacity:1; font-family:Arial,Helvetica Neue,Helvetica,sans-serif; font-size:12; text-anchor:middle;\" transform=\"rotate(0, 152.789, 390.178)\" x=\"152.789\" y=\"390.178\">2.5</text>\n",
       "</g>\n",
       "<g clip-path=\"url(#clip00)\">\n",
       "<text style=\"fill:#000000; fill-opacity:1; font-family:Arial,Helvetica Neue,Helvetica,sans-serif; font-size:12; text-anchor:middle;\" transform=\"rotate(0, 315.748, 390.178)\" x=\"315.748\" y=\"390.178\">5.0</text>\n",
       "</g>\n",
       "<g clip-path=\"url(#clip00)\">\n",
       "<text style=\"fill:#000000; fill-opacity:1; font-family:Arial,Helvetica Neue,Helvetica,sans-serif; font-size:12; text-anchor:middle;\" transform=\"rotate(0, 478.707, 390.178)\" x=\"478.707\" y=\"390.178\">7.5</text>\n",
       "</g>\n",
       "<g clip-path=\"url(#clip00)\">\n",
       "<text style=\"fill:#000000; fill-opacity:1; font-family:Arial,Helvetica Neue,Helvetica,sans-serif; font-size:12; text-anchor:end;\" transform=\"rotate(0, 33.3701, 370.449)\" x=\"33.3701\" y=\"370.449\">0</text>\n",
       "</g>\n",
       "<g clip-path=\"url(#clip00)\">\n",
       "<text style=\"fill:#000000; fill-opacity:1; font-family:Arial,Helvetica Neue,Helvetica,sans-serif; font-size:12; text-anchor:end;\" transform=\"rotate(0, 33.3701, 250.497)\" x=\"33.3701\" y=\"250.497\">100</text>\n",
       "</g>\n",
       "<g clip-path=\"url(#clip00)\">\n",
       "<text style=\"fill:#000000; fill-opacity:1; font-family:Arial,Helvetica Neue,Helvetica,sans-serif; font-size:12; text-anchor:end;\" transform=\"rotate(0, 33.3701, 130.546)\" x=\"33.3701\" y=\"130.546\">200</text>\n",
       "</g>\n",
       "<circle clip-path=\"url(#clip02)\" style=\"fill:#000000; stroke:none; fill-opacity:1\" cx=\"55.0141\" cy=\"252.36\" r=\"4\"/>\n",
       "<circle clip-path=\"url(#clip02)\" style=\"fill:#009af9; stroke:none; fill-opacity:1\" cx=\"55.0141\" cy=\"252.36\" r=\"3\"/>\n",
       "<circle clip-path=\"url(#clip02)\" style=\"fill:#000000; stroke:none; fill-opacity:1\" cx=\"120.198\" cy=\"240.091\" r=\"4\"/>\n",
       "<circle clip-path=\"url(#clip02)\" style=\"fill:#009af9; stroke:none; fill-opacity:1\" cx=\"120.198\" cy=\"240.091\" r=\"3\"/>\n",
       "<circle clip-path=\"url(#clip02)\" style=\"fill:#000000; stroke:none; fill-opacity:1\" cx=\"185.381\" cy=\"217.765\" r=\"4\"/>\n",
       "<circle clip-path=\"url(#clip02)\" style=\"fill:#009af9; stroke:none; fill-opacity:1\" cx=\"185.381\" cy=\"217.765\" r=\"3\"/>\n",
       "<circle clip-path=\"url(#clip02)\" style=\"fill:#000000; stroke:none; fill-opacity:1\" cx=\"250.565\" cy=\"187.016\" r=\"4\"/>\n",
       "<circle clip-path=\"url(#clip02)\" style=\"fill:#009af9; stroke:none; fill-opacity:1\" cx=\"250.565\" cy=\"187.016\" r=\"3\"/>\n",
       "<circle clip-path=\"url(#clip02)\" style=\"fill:#000000; stroke:none; fill-opacity:1\" cx=\"315.748\" cy=\"149.93\" r=\"4\"/>\n",
       "<circle clip-path=\"url(#clip02)\" style=\"fill:#009af9; stroke:none; fill-opacity:1\" cx=\"315.748\" cy=\"149.93\" r=\"3\"/>\n",
       "<circle clip-path=\"url(#clip02)\" style=\"fill:#000000; stroke:none; fill-opacity:1\" cx=\"380.932\" cy=\"109.012\" r=\"4\"/>\n",
       "<circle clip-path=\"url(#clip02)\" style=\"fill:#009af9; stroke:none; fill-opacity:1\" cx=\"380.932\" cy=\"109.012\" r=\"3\"/>\n",
       "<circle clip-path=\"url(#clip02)\" style=\"fill:#000000; stroke:none; fill-opacity:1\" cx=\"446.115\" cy=\"67.6127\" r=\"4\"/>\n",
       "<circle clip-path=\"url(#clip02)\" style=\"fill:#009af9; stroke:none; fill-opacity:1\" cx=\"446.115\" cy=\"67.6127\" r=\"3\"/>\n",
       "<circle clip-path=\"url(#clip02)\" style=\"fill:#000000; stroke:none; fill-opacity:1\" cx=\"511.298\" cy=\"31.9545\" r=\"4\"/>\n",
       "<circle clip-path=\"url(#clip02)\" style=\"fill:#009af9; stroke:none; fill-opacity:1\" cx=\"511.298\" cy=\"31.9545\" r=\"3\"/>\n",
       "<circle clip-path=\"url(#clip02)\" style=\"fill:#000000; stroke:none; fill-opacity:1\" cx=\"576.482\" cy=\"18.3034\" r=\"4\"/>\n",
       "<circle clip-path=\"url(#clip02)\" style=\"fill:#009af9; stroke:none; fill-opacity:1\" cx=\"576.482\" cy=\"18.3034\" r=\"3\"/>\n",
       "<circle clip-path=\"url(#clip02)\" style=\"fill:#000000; stroke:none; fill-opacity:1\" cx=\"55.0141\" cy=\"317.37\" r=\"4\"/>\n",
       "<circle clip-path=\"url(#clip02)\" style=\"fill:#e26f46; stroke:none; fill-opacity:1\" cx=\"55.0141\" cy=\"317.37\" r=\"3\"/>\n",
       "<circle clip-path=\"url(#clip02)\" style=\"fill:#000000; stroke:none; fill-opacity:1\" cx=\"120.198\" cy=\"305.607\" r=\"4\"/>\n",
       "<circle clip-path=\"url(#clip02)\" style=\"fill:#e26f46; stroke:none; fill-opacity:1\" cx=\"120.198\" cy=\"305.607\" r=\"3\"/>\n",
       "<circle clip-path=\"url(#clip02)\" style=\"fill:#000000; stroke:none; fill-opacity:1\" cx=\"185.381\" cy=\"286.603\" r=\"4\"/>\n",
       "<circle clip-path=\"url(#clip02)\" style=\"fill:#e26f46; stroke:none; fill-opacity:1\" cx=\"185.381\" cy=\"286.603\" r=\"3\"/>\n",
       "<circle clip-path=\"url(#clip02)\" style=\"fill:#000000; stroke:none; fill-opacity:1\" cx=\"250.565\" cy=\"263.26\" r=\"4\"/>\n",
       "<circle clip-path=\"url(#clip02)\" style=\"fill:#e26f46; stroke:none; fill-opacity:1\" cx=\"250.565\" cy=\"263.26\" r=\"3\"/>\n",
       "<circle clip-path=\"url(#clip02)\" style=\"fill:#000000; stroke:none; fill-opacity:1\" cx=\"315.748\" cy=\"238.007\" r=\"4\"/>\n",
       "<circle clip-path=\"url(#clip02)\" style=\"fill:#e26f46; stroke:none; fill-opacity:1\" cx=\"315.748\" cy=\"238.007\" r=\"3\"/>\n",
       "<circle clip-path=\"url(#clip02)\" style=\"fill:#000000; stroke:none; fill-opacity:1\" cx=\"380.932\" cy=\"212.601\" r=\"4\"/>\n",
       "<circle clip-path=\"url(#clip02)\" style=\"fill:#e26f46; stroke:none; fill-opacity:1\" cx=\"380.932\" cy=\"212.601\" r=\"3\"/>\n",
       "<circle clip-path=\"url(#clip02)\" style=\"fill:#000000; stroke:none; fill-opacity:1\" cx=\"446.115\" cy=\"189.011\" r=\"4\"/>\n",
       "<circle clip-path=\"url(#clip02)\" style=\"fill:#e26f46; stroke:none; fill-opacity:1\" cx=\"446.115\" cy=\"189.011\" r=\"3\"/>\n",
       "<circle clip-path=\"url(#clip02)\" style=\"fill:#000000; stroke:none; fill-opacity:1\" cx=\"511.298\" cy=\"172.364\" r=\"4\"/>\n",
       "<circle clip-path=\"url(#clip02)\" style=\"fill:#e26f46; stroke:none; fill-opacity:1\" cx=\"511.298\" cy=\"172.364\" r=\"3\"/>\n",
       "<circle clip-path=\"url(#clip02)\" style=\"fill:#000000; stroke:none; fill-opacity:1\" cx=\"576.482\" cy=\"166.155\" r=\"4\"/>\n",
       "<circle clip-path=\"url(#clip02)\" style=\"fill:#e26f46; stroke:none; fill-opacity:1\" cx=\"576.482\" cy=\"166.155\" r=\"3\"/>\n",
       "<circle clip-path=\"url(#clip02)\" style=\"fill:#000000; stroke:none; fill-opacity:1\" cx=\"55.0141\" cy=\"349.275\" r=\"4\"/>\n",
       "<circle clip-path=\"url(#clip02)\" style=\"fill:#3da44d; stroke:none; fill-opacity:1\" cx=\"55.0141\" cy=\"349.275\" r=\"3\"/>\n",
       "<circle clip-path=\"url(#clip02)\" style=\"fill:#000000; stroke:none; fill-opacity:1\" cx=\"120.198\" cy=\"339.953\" r=\"4\"/>\n",
       "<circle clip-path=\"url(#clip02)\" style=\"fill:#3da44d; stroke:none; fill-opacity:1\" cx=\"120.198\" cy=\"339.953\" r=\"3\"/>\n",
       "<circle clip-path=\"url(#clip02)\" style=\"fill:#000000; stroke:none; fill-opacity:1\" cx=\"185.381\" cy=\"326.565\" r=\"4\"/>\n",
       "<circle clip-path=\"url(#clip02)\" style=\"fill:#3da44d; stroke:none; fill-opacity:1\" cx=\"185.381\" cy=\"326.565\" r=\"3\"/>\n",
       "<circle clip-path=\"url(#clip02)\" style=\"fill:#000000; stroke:none; fill-opacity:1\" cx=\"250.565\" cy=\"312.316\" r=\"4\"/>\n",
       "<circle clip-path=\"url(#clip02)\" style=\"fill:#3da44d; stroke:none; fill-opacity:1\" cx=\"250.565\" cy=\"312.316\" r=\"3\"/>\n",
       "<circle clip-path=\"url(#clip02)\" style=\"fill:#000000; stroke:none; fill-opacity:1\" cx=\"315.748\" cy=\"297.955\" r=\"4\"/>\n",
       "<circle clip-path=\"url(#clip02)\" style=\"fill:#3da44d; stroke:none; fill-opacity:1\" cx=\"315.748\" cy=\"297.955\" r=\"3\"/>\n",
       "<circle clip-path=\"url(#clip02)\" style=\"fill:#000000; stroke:none; fill-opacity:1\" cx=\"380.932\" cy=\"283.796\" r=\"4\"/>\n",
       "<circle clip-path=\"url(#clip02)\" style=\"fill:#3da44d; stroke:none; fill-opacity:1\" cx=\"380.932\" cy=\"283.796\" r=\"3\"/>\n",
       "<circle clip-path=\"url(#clip02)\" style=\"fill:#000000; stroke:none; fill-opacity:1\" cx=\"446.115\" cy=\"270.653\" r=\"4\"/>\n",
       "<circle clip-path=\"url(#clip02)\" style=\"fill:#3da44d; stroke:none; fill-opacity:1\" cx=\"446.115\" cy=\"270.653\" r=\"3\"/>\n",
       "<circle clip-path=\"url(#clip02)\" style=\"fill:#000000; stroke:none; fill-opacity:1\" cx=\"511.298\" cy=\"260.366\" r=\"4\"/>\n",
       "<circle clip-path=\"url(#clip02)\" style=\"fill:#3da44d; stroke:none; fill-opacity:1\" cx=\"511.298\" cy=\"260.366\" r=\"3\"/>\n",
       "<circle clip-path=\"url(#clip02)\" style=\"fill:#000000; stroke:none; fill-opacity:1\" cx=\"576.482\" cy=\"255.857\" r=\"4\"/>\n",
       "<circle clip-path=\"url(#clip02)\" style=\"fill:#3da44d; stroke:none; fill-opacity:1\" cx=\"576.482\" cy=\"255.857\" r=\"3\"/>\n",
       "<circle clip-path=\"url(#clip02)\" style=\"fill:#000000; stroke:none; fill-opacity:1\" cx=\"55.0141\" cy=\"365.949\" r=\"4\"/>\n",
       "<circle clip-path=\"url(#clip02)\" style=\"fill:#c271d2; stroke:none; fill-opacity:1\" cx=\"55.0141\" cy=\"365.949\" r=\"3\"/>\n",
       "<circle clip-path=\"url(#clip02)\" style=\"fill:#000000; stroke:none; fill-opacity:1\" cx=\"120.198\" cy=\"363.789\" r=\"4\"/>\n",
       "<circle clip-path=\"url(#clip02)\" style=\"fill:#c271d2; stroke:none; fill-opacity:1\" cx=\"120.198\" cy=\"363.789\" r=\"3\"/>\n",
       "<circle clip-path=\"url(#clip02)\" style=\"fill:#000000; stroke:none; fill-opacity:1\" cx=\"185.381\" cy=\"361.39\" r=\"4\"/>\n",
       "<circle clip-path=\"url(#clip02)\" style=\"fill:#c271d2; stroke:none; fill-opacity:1\" cx=\"185.381\" cy=\"361.39\" r=\"3\"/>\n",
       "<circle clip-path=\"url(#clip02)\" style=\"fill:#000000; stroke:none; fill-opacity:1\" cx=\"250.565\" cy=\"358.991\" r=\"4\"/>\n",
       "<circle clip-path=\"url(#clip02)\" style=\"fill:#c271d2; stroke:none; fill-opacity:1\" cx=\"250.565\" cy=\"358.991\" r=\"3\"/>\n",
       "<circle clip-path=\"url(#clip02)\" style=\"fill:#000000; stroke:none; fill-opacity:1\" cx=\"315.748\" cy=\"356.592\" r=\"4\"/>\n",
       "<circle clip-path=\"url(#clip02)\" style=\"fill:#c271d2; stroke:none; fill-opacity:1\" cx=\"315.748\" cy=\"356.592\" r=\"3\"/>\n",
       "<circle clip-path=\"url(#clip02)\" style=\"fill:#000000; stroke:none; fill-opacity:1\" cx=\"380.932\" cy=\"354.193\" r=\"4\"/>\n",
       "<circle clip-path=\"url(#clip02)\" style=\"fill:#c271d2; stroke:none; fill-opacity:1\" cx=\"380.932\" cy=\"354.193\" r=\"3\"/>\n",
       "<circle clip-path=\"url(#clip02)\" style=\"fill:#000000; stroke:none; fill-opacity:1\" cx=\"446.115\" cy=\"351.794\" r=\"4\"/>\n",
       "<circle clip-path=\"url(#clip02)\" style=\"fill:#c271d2; stroke:none; fill-opacity:1\" cx=\"446.115\" cy=\"351.794\" r=\"3\"/>\n",
       "<circle clip-path=\"url(#clip02)\" style=\"fill:#000000; stroke:none; fill-opacity:1\" cx=\"511.298\" cy=\"349.395\" r=\"4\"/>\n",
       "<circle clip-path=\"url(#clip02)\" style=\"fill:#c271d2; stroke:none; fill-opacity:1\" cx=\"511.298\" cy=\"349.395\" r=\"3\"/>\n",
       "<circle clip-path=\"url(#clip02)\" style=\"fill:#000000; stroke:none; fill-opacity:1\" cx=\"576.482\" cy=\"346.996\" r=\"4\"/>\n",
       "<circle clip-path=\"url(#clip02)\" style=\"fill:#c271d2; stroke:none; fill-opacity:1\" cx=\"576.482\" cy=\"346.996\" r=\"3\"/>\n",
       "<polygon clip-path=\"url(#clip00)\" points=\"\n",
       "501.61,104.354 574.126,104.354 574.126,28.754 501.61,28.754 \n",
       "  \" fill=\"#ffffff\" fill-opacity=\"1\"/>\n",
       "<polyline clip-path=\"url(#clip00)\" style=\"stroke:#000000; stroke-width:1; stroke-opacity:1; fill:none\" points=\"\n",
       "  501.61,104.354 574.126,104.354 574.126,28.754 501.61,28.754 501.61,104.354 \n",
       "  \"/>\n",
       "<circle clip-path=\"url(#clip00)\" style=\"fill:#000000; stroke:none; fill-opacity:1\" cx=\"528.61\" cy=\"43.874\" r=\"6\"/>\n",
       "<circle clip-path=\"url(#clip00)\" style=\"fill:#009af9; stroke:none; fill-opacity:1\" cx=\"528.61\" cy=\"43.874\" r=\"5\"/>\n",
       "<g clip-path=\"url(#clip00)\">\n",
       "<text style=\"fill:#000000; fill-opacity:1; font-family:Arial,Helvetica Neue,Helvetica,sans-serif; font-size:12; text-anchor:start;\" transform=\"rotate(0, 549.61, 48.374)\" x=\"549.61\" y=\"48.374\">y1</text>\n",
       "</g>\n",
       "<circle clip-path=\"url(#clip00)\" style=\"fill:#000000; stroke:none; fill-opacity:1\" cx=\"528.61\" cy=\"58.994\" r=\"6\"/>\n",
       "<circle clip-path=\"url(#clip00)\" style=\"fill:#e26f46; stroke:none; fill-opacity:1\" cx=\"528.61\" cy=\"58.994\" r=\"5\"/>\n",
       "<g clip-path=\"url(#clip00)\">\n",
       "<text style=\"fill:#000000; fill-opacity:1; font-family:Arial,Helvetica Neue,Helvetica,sans-serif; font-size:12; text-anchor:start;\" transform=\"rotate(0, 549.61, 63.494)\" x=\"549.61\" y=\"63.494\">y2</text>\n",
       "</g>\n",
       "<circle clip-path=\"url(#clip00)\" style=\"fill:#000000; stroke:none; fill-opacity:1\" cx=\"528.61\" cy=\"74.114\" r=\"6\"/>\n",
       "<circle clip-path=\"url(#clip00)\" style=\"fill:#3da44d; stroke:none; fill-opacity:1\" cx=\"528.61\" cy=\"74.114\" r=\"5\"/>\n",
       "<g clip-path=\"url(#clip00)\">\n",
       "<text style=\"fill:#000000; fill-opacity:1; font-family:Arial,Helvetica Neue,Helvetica,sans-serif; font-size:12; text-anchor:start;\" transform=\"rotate(0, 549.61, 78.614)\" x=\"549.61\" y=\"78.614\">y3</text>\n",
       "</g>\n",
       "<circle clip-path=\"url(#clip00)\" style=\"fill:#000000; stroke:none; fill-opacity:1\" cx=\"528.61\" cy=\"89.234\" r=\"6\"/>\n",
       "<circle clip-path=\"url(#clip00)\" style=\"fill:#c271d2; stroke:none; fill-opacity:1\" cx=\"528.61\" cy=\"89.234\" r=\"5\"/>\n",
       "<g clip-path=\"url(#clip00)\">\n",
       "<text style=\"fill:#000000; fill-opacity:1; font-family:Arial,Helvetica Neue,Helvetica,sans-serif; font-size:12; text-anchor:start;\" transform=\"rotate(0, 549.61, 93.734)\" x=\"549.61\" y=\"93.734\">y4</text>\n",
       "</g>\n",
       "</svg>\n"
      ]
     },
     "execution_count": 10,
     "metadata": {},
     "output_type": "execute_result"
    }
   ],
   "source": [
    "scatter(v[t])"
   ]
  },
  {
   "cell_type": "code",
   "execution_count": null,
   "metadata": {
    "collapsed": true
   },
   "outputs": [],
   "source": []
  }
 ],
 "metadata": {
  "kernelspec": {
   "display_name": "Julia 0.6.0",
   "language": "julia",
   "name": "julia-0.6"
  },
  "language_info": {
   "file_extension": ".jl",
   "mimetype": "application/julia",
   "name": "julia",
   "version": "0.6.2"
  }
 },
 "nbformat": 4,
 "nbformat_minor": 2
}
