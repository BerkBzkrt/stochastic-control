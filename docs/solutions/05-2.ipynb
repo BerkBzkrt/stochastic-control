{
 "cells": [
  {
   "cell_type": "markdown",
   "metadata": {},
   "source": [
    "We use a slight modification of the code in Assignment 3 to define an MDP"
   ]
  },
  {
   "cell_type": "code",
   "execution_count": 1,
   "metadata": {},
   "outputs": [],
   "source": [
    "type MDP \n",
    "    stateSize  :: Int\n",
    "    actionSize :: Int\n",
    "    bellmanUpdate! :: Function\n",
    "    c :: Array{Float64, 2}\n",
    "    P :: Array{ Array{Float64, 2}, 1}\n",
    "    \n",
    "    function MDP(c, P)\n",
    "        (n, m) = size(c)\n",
    "        \n",
    "        if length(P) != m\n",
    "            error(\"Number of transition matrices does not match the number of actions\")\n",
    "        end\n",
    "        \n",
    "        P_concatenated = vcat(P...)\n",
    "        if size(P_concatenated) != (n*m, n)\n",
    "            error(\"Size of transition and reward matrices are inconsistent\")\n",
    "        end\n",
    "        \n",
    "        is_square(Pi) = size(Pi) == (n,n)\n",
    "        is_row_stochastic(Pi) = isapprox(sum(Pi,2), ones(n); atol=100*eps(Float64))\n",
    "        is_stopping_action(Pi) = Pi - zero(Pi)\n",
    "        \n",
    "        for Pi in P\n",
    "            if !is_square(Pi)\n",
    "                error(\"Transition matrix is not a square matrix\")\n",
    "                print(size(Pi))\n",
    "                print(n)\n",
    "            elseif !(is_row_stochastic(Pi) || is_stopping_action(Pi))\n",
    "                error(\"Transition matrix is not row stochastic\")\n",
    "            end\n",
    "        end\n",
    "        \n",
    "        function update!(v, g, vOld; discount=1)\n",
    "            Q = c + discount * reshape(P_concatenated * vOld, n, m)\n",
    "            \n",
    "            for x=1:n\n",
    "                g[x], v[x] = 1, Q[x,1]\n",
    "                for u=2:m\n",
    "                    if Q[x,u] < v[x]\n",
    "                        g[x], v[x] = u, Q[x,u]\n",
    "                    end\n",
    "                end\n",
    "            end\n",
    "        end\n",
    "        \n",
    "        new(n, m, update!, c, P)\n",
    "    end\n",
    "end"
   ]
  },
  {
   "cell_type": "markdown",
   "metadata": {},
   "source": [
    "Now we define a function to evaluate the performance of a given policy"
   ]
  },
  {
   "cell_type": "code",
   "execution_count": 2,
   "metadata": {},
   "outputs": [
    {
     "data": {
      "text/plain": [
       "evaluate (generic function with 1 method)"
      ]
     },
     "execution_count": 2,
     "metadata": {},
     "output_type": "execute_result"
    }
   ],
   "source": [
    "function evaluate(m::MDP, policy;\n",
    "                  discount=1.0)\n",
    "    n = size(m.c, 1)\n",
    "    c = zeros(n)\n",
    "    P = zeros(n,n)\n",
    "        \n",
    "    for x=1:n\n",
    "        u = g[x]\n",
    "        c[x] = m.c[x,u]\n",
    "        P[x,:] = m.P[u][x,:]\n",
    "    end\n",
    "    \n",
    "    return (eye(n)-discount*P)\\c\n",
    "end"
   ]
  },
  {
   "cell_type": "markdown",
   "metadata": {},
   "source": [
    "Now we specify the parameters of the model"
   ]
  },
  {
   "cell_type": "code",
   "execution_count": 3,
   "metadata": {},
   "outputs": [
    {
     "data": {
      "text/plain": [
       "3"
      ]
     },
     "execution_count": 3,
     "metadata": {},
     "output_type": "execute_result"
    }
   ],
   "source": [
    "const rate        = [0.2 0.5 0.8]\n",
    "const arrivalRate = 0.6\n",
    "\n",
    "const serviceCost = [0 2 6]\n",
    "const holdingCost = 2\n",
    "\n",
    "const R = 1\n",
    "const M = 8\n",
    "const A = length(rate)"
   ]
  },
  {
   "cell_type": "markdown",
   "metadata": {},
   "source": [
    "Finally, we construct the cost and probability matrix for the model (This is the same as in Assignment 3)"
   ]
  },
  {
   "cell_type": "code",
   "execution_count": 4,
   "metadata": {},
   "outputs": [],
   "source": [
    "P = [ spzeros(Float64, M+1, M+1) for u = 1:A]\n",
    "c = zeros(Float64, M+1, A)\n",
    "\n",
    "# Initialize cost matrix\n",
    "c[1,:] = 0 \n",
    "\n",
    "for x = 1:(M+1)\n",
    "    for u = 1:A\n",
    "        if x == 1 \n",
    "          c[x,u] = serviceCost[u] \n",
    "        else\n",
    "          c[x,u] = (x-1) * holdingCost + serviceCost[u] - R*rate[u]\n",
    "        end\n",
    "    end\n",
    "end\n",
    "\n",
    "# Initialize Probability matrix\n",
    "for x = 2:M\n",
    "    for u = 1:A\n",
    "        P[u][x, x-1] = (1 - arrivalRate) * rate[u]\n",
    "        P[u][x, x]   = (1 - arrivalRate) * (1 - rate[u]) + arrivalRate * rate[u]\n",
    "        P[u][x, x+1] = arrivalRate * ( 1 - rate[u])\n",
    "    end\n",
    "end\n",
    "\n",
    "for u = 1:A\n",
    "    P[u][1,1] = (1 - arrivalRate) \n",
    "    P[u][1,2] = arrivalRate\n",
    "\n",
    "    P[u][M+1, M+1] = (1 - rate[u])\n",
    "    P[u][M+1, M  ] = rate[u]\n",
    "end"
   ]
  },
  {
   "cell_type": "code",
   "execution_count": 5,
   "metadata": {},
   "outputs": [
    {
     "data": {
      "text/plain": [
       "MDP(9, 3, update!, [0.0 2.0 6.0; 1.8 3.5 7.2; … ; 13.8 15.5 19.2; 15.8 17.5 21.2], Array{Float64,2}[[0.4 0.6 … 0.0 0.0; 0.08 0.44 … 0.0 0.0; … ; 0.0 0.0 … 0.44 0.48; 0.0 0.0 … 0.2 0.8], [0.4 0.6 … 0.0 0.0; 0.2 0.5 … 0.0 0.0; … ; 0.0 0.0 … 0.5 0.3; 0.0 0.0 … 0.5 0.5], [0.4 0.6 … 0.0 0.0; 0.32 0.56 … 0.0 0.0; … ; 0.0 0.0 … 0.56 0.12; 0.0 0.0 … 0.8 0.2]])"
      ]
     },
     "execution_count": 5,
     "metadata": {},
     "output_type": "execute_result"
    }
   ],
   "source": [
    "model = MDP(c,P)"
   ]
  },
  {
   "cell_type": "markdown",
   "metadata": {},
   "source": [
    "Now we write the policy specified in the question. We add `1` because the array indices start from `1` rather than `0`."
   ]
  },
  {
   "cell_type": "code",
   "execution_count": 6,
   "metadata": {},
   "outputs": [
    {
     "data": {
      "text/plain": [
       "9-element Array{Int64,1}:\n",
       " 1\n",
       " 1\n",
       " 1\n",
       " 3\n",
       " 3\n",
       " 3\n",
       " 2\n",
       " 2\n",
       " 2"
      ]
     },
     "execution_count": 6,
     "metadata": {},
     "output_type": "execute_result"
    }
   ],
   "source": [
    "g = zeros(Int, M+1)\n",
    "g[(0:2)+1] = 0\n",
    "g[(3:5)+1] = 2\n",
    "g[(6:M)+1] = 1\n",
    "g = g + 1"
   ]
  },
  {
   "cell_type": "code",
   "execution_count": 7,
   "metadata": {},
   "outputs": [
    {
     "data": {
      "text/plain": [
       "9-element Array{Float64,1}:\n",
       "  56.9486\n",
       "  67.4947\n",
       "  80.7094\n",
       "  92.7984\n",
       " 107.256 \n",
       " 122.899 \n",
       " 137.669 \n",
       " 148.504 \n",
       " 153.321 "
      ]
     },
     "execution_count": 7,
     "metadata": {},
     "output_type": "execute_result"
    }
   ],
   "source": [
    "v = evaluate(model, g; discount=0.9)"
   ]
  },
  {
   "cell_type": "code",
   "execution_count": 8,
   "metadata": {},
   "outputs": [
    {
     "data": {
      "text/plain": [
       "Plots.GRBackend()"
      ]
     },
     "execution_count": 8,
     "metadata": {},
     "output_type": "execute_result"
    }
   ],
   "source": [
    "using Plots\n",
    "gr()"
   ]
  },
  {
   "cell_type": "code",
   "execution_count": 9,
   "metadata": {},
   "outputs": [
    {
     "data": {
      "text/html": [
       "<?xml version=\"1.0\" encoding=\"utf-8\"?>\n",
       "<svg xmlns=\"http://www.w3.org/2000/svg\" xmlns:xlink=\"http://www.w3.org/1999/xlink\" width=\"600\" height=\"400\" viewBox=\"0 0 600 400\">\n",
       "<defs>\n",
       "  <clipPath id=\"clip00\">\n",
       "    <rect x=\"0\" y=\"0\" width=\"600\" height=\"400\"/>\n",
       "  </clipPath>\n",
       "</defs>\n",
       "<polygon clip-path=\"url(#clip00)\" points=\"\n",
       "0,400 600,400 600,0 0,0 \n",
       "  \" fill=\"#ffffff\" fill-opacity=\"1\"/>\n",
       "<defs>\n",
       "  <clipPath id=\"clip01\">\n",
       "    <rect x=\"120\" y=\"0\" width=\"421\" height=\"400\"/>\n",
       "  </clipPath>\n",
       "</defs>\n",
       "<polygon clip-path=\"url(#clip00)\" points=\"\n",
       "39.3701,376.378 592.126,376.378 592.126,7.87402 39.3701,7.87402 \n",
       "  \" fill=\"#ffffff\" fill-opacity=\"1\"/>\n",
       "<defs>\n",
       "  <clipPath id=\"clip02\">\n",
       "    <rect x=\"39\" y=\"7\" width=\"554\" height=\"370\"/>\n",
       "  </clipPath>\n",
       "</defs>\n",
       "<polyline clip-path=\"url(#clip02)\" style=\"stroke:#000000; stroke-width:1; stroke-opacity:0.5; fill:none\" stroke-dasharray=\"1, 2\" points=\"\n",
       "  152.789,370.85 152.789,13.4016 \n",
       "  \"/>\n",
       "<polyline clip-path=\"url(#clip02)\" style=\"stroke:#000000; stroke-width:1; stroke-opacity:0.5; fill:none\" stroke-dasharray=\"1, 2\" points=\"\n",
       "  315.748,370.85 315.748,13.4016 \n",
       "  \"/>\n",
       "<polyline clip-path=\"url(#clip02)\" style=\"stroke:#000000; stroke-width:1; stroke-opacity:0.5; fill:none\" stroke-dasharray=\"1, 2\" points=\"\n",
       "  478.707,370.85 478.707,13.4016 \n",
       "  \"/>\n",
       "<polyline clip-path=\"url(#clip02)\" style=\"stroke:#000000; stroke-width:1; stroke-opacity:0.5; fill:none\" stroke-dasharray=\"1, 2\" points=\"\n",
       "  47.6614,210.65 583.835,210.65 \n",
       "  \"/>\n",
       "<polyline clip-path=\"url(#clip02)\" style=\"stroke:#000000; stroke-width:1; stroke-opacity:0.5; fill:none\" stroke-dasharray=\"1, 2\" points=\"\n",
       "  47.6614,30.285 583.835,30.285 \n",
       "  \"/>\n",
       "<polyline clip-path=\"url(#clip00)\" style=\"stroke:#000000; stroke-width:1; stroke-opacity:1; fill:none\" points=\"\n",
       "  39.3701,376.378 592.126,376.378 \n",
       "  \"/>\n",
       "<polyline clip-path=\"url(#clip00)\" style=\"stroke:#000000; stroke-width:1; stroke-opacity:1; fill:none\" points=\"\n",
       "  152.789,376.378 152.789,370.85 \n",
       "  \"/>\n",
       "<polyline clip-path=\"url(#clip00)\" style=\"stroke:#000000; stroke-width:1; stroke-opacity:1; fill:none\" points=\"\n",
       "  315.748,376.378 315.748,370.85 \n",
       "  \"/>\n",
       "<polyline clip-path=\"url(#clip00)\" style=\"stroke:#000000; stroke-width:1; stroke-opacity:1; fill:none\" points=\"\n",
       "  478.707,376.378 478.707,370.85 \n",
       "  \"/>\n",
       "<polyline clip-path=\"url(#clip00)\" style=\"stroke:#000000; stroke-width:1; stroke-opacity:1; fill:none\" points=\"\n",
       "  39.3701,376.378 39.3701,7.87402 \n",
       "  \"/>\n",
       "<polyline clip-path=\"url(#clip00)\" style=\"stroke:#000000; stroke-width:1; stroke-opacity:1; fill:none\" points=\"\n",
       "  39.3701,210.65 47.6614,210.65 \n",
       "  \"/>\n",
       "<polyline clip-path=\"url(#clip00)\" style=\"stroke:#000000; stroke-width:1; stroke-opacity:1; fill:none\" points=\"\n",
       "  39.3701,30.285 47.6614,30.285 \n",
       "  \"/>\n",
       "<g clip-path=\"url(#clip00)\">\n",
       "<text style=\"fill:#000000; fill-opacity:1; font-family:Arial,Helvetica Neue,Helvetica,sans-serif; font-size:12; text-anchor:middle;\" transform=\"rotate(0, 152.789, 390.178)\" x=\"152.789\" y=\"390.178\">2.5</text>\n",
       "</g>\n",
       "<g clip-path=\"url(#clip00)\">\n",
       "<text style=\"fill:#000000; fill-opacity:1; font-family:Arial,Helvetica Neue,Helvetica,sans-serif; font-size:12; text-anchor:middle;\" transform=\"rotate(0, 315.748, 390.178)\" x=\"315.748\" y=\"390.178\">5.0</text>\n",
       "</g>\n",
       "<g clip-path=\"url(#clip00)\">\n",
       "<text style=\"fill:#000000; fill-opacity:1; font-family:Arial,Helvetica Neue,Helvetica,sans-serif; font-size:12; text-anchor:middle;\" transform=\"rotate(0, 478.707, 390.178)\" x=\"478.707\" y=\"390.178\">7.5</text>\n",
       "</g>\n",
       "<g clip-path=\"url(#clip00)\">\n",
       "<text style=\"fill:#000000; fill-opacity:1; font-family:Arial,Helvetica Neue,Helvetica,sans-serif; font-size:12; text-anchor:end;\" transform=\"rotate(0, 33.3701, 215.15)\" x=\"33.3701\" y=\"215.15\">100</text>\n",
       "</g>\n",
       "<g clip-path=\"url(#clip00)\">\n",
       "<text style=\"fill:#000000; fill-opacity:1; font-family:Arial,Helvetica Neue,Helvetica,sans-serif; font-size:12; text-anchor:end;\" transform=\"rotate(0, 33.3701, 34.785)\" x=\"33.3701\" y=\"34.785\">150</text>\n",
       "</g>\n",
       "<circle clip-path=\"url(#clip02)\" style=\"fill:#000000; stroke:none; fill-opacity:1\" cx=\"55.0141\" cy=\"365.949\" r=\"4\"/>\n",
       "<circle clip-path=\"url(#clip02)\" style=\"fill:#009af9; stroke:none; fill-opacity:1\" cx=\"55.0141\" cy=\"365.949\" r=\"3\"/>\n",
       "<circle clip-path=\"url(#clip02)\" style=\"fill:#000000; stroke:none; fill-opacity:1\" cx=\"120.198\" cy=\"327.906\" r=\"4\"/>\n",
       "<circle clip-path=\"url(#clip02)\" style=\"fill:#009af9; stroke:none; fill-opacity:1\" cx=\"120.198\" cy=\"327.906\" r=\"3\"/>\n",
       "<circle clip-path=\"url(#clip02)\" style=\"fill:#000000; stroke:none; fill-opacity:1\" cx=\"185.381\" cy=\"280.236\" r=\"4\"/>\n",
       "<circle clip-path=\"url(#clip02)\" style=\"fill:#009af9; stroke:none; fill-opacity:1\" cx=\"185.381\" cy=\"280.236\" r=\"3\"/>\n",
       "<circle clip-path=\"url(#clip02)\" style=\"fill:#000000; stroke:none; fill-opacity:1\" cx=\"250.565\" cy=\"236.628\" r=\"4\"/>\n",
       "<circle clip-path=\"url(#clip02)\" style=\"fill:#009af9; stroke:none; fill-opacity:1\" cx=\"250.565\" cy=\"236.628\" r=\"3\"/>\n",
       "<circle clip-path=\"url(#clip02)\" style=\"fill:#000000; stroke:none; fill-opacity:1\" cx=\"315.748\" cy=\"184.475\" r=\"4\"/>\n",
       "<circle clip-path=\"url(#clip02)\" style=\"fill:#009af9; stroke:none; fill-opacity:1\" cx=\"315.748\" cy=\"184.475\" r=\"3\"/>\n",
       "<circle clip-path=\"url(#clip02)\" style=\"fill:#000000; stroke:none; fill-opacity:1\" cx=\"380.932\" cy=\"128.045\" r=\"4\"/>\n",
       "<circle clip-path=\"url(#clip02)\" style=\"fill:#009af9; stroke:none; fill-opacity:1\" cx=\"380.932\" cy=\"128.045\" r=\"3\"/>\n",
       "<circle clip-path=\"url(#clip02)\" style=\"fill:#000000; stroke:none; fill-opacity:1\" cx=\"446.115\" cy=\"74.7665\" r=\"4\"/>\n",
       "<circle clip-path=\"url(#clip02)\" style=\"fill:#009af9; stroke:none; fill-opacity:1\" cx=\"446.115\" cy=\"74.7665\" r=\"3\"/>\n",
       "<circle clip-path=\"url(#clip02)\" style=\"fill:#000000; stroke:none; fill-opacity:1\" cx=\"511.298\" cy=\"35.6813\" r=\"4\"/>\n",
       "<circle clip-path=\"url(#clip02)\" style=\"fill:#009af9; stroke:none; fill-opacity:1\" cx=\"511.298\" cy=\"35.6813\" r=\"3\"/>\n",
       "<circle clip-path=\"url(#clip02)\" style=\"fill:#000000; stroke:none; fill-opacity:1\" cx=\"576.482\" cy=\"18.3034\" r=\"4\"/>\n",
       "<circle clip-path=\"url(#clip02)\" style=\"fill:#009af9; stroke:none; fill-opacity:1\" cx=\"576.482\" cy=\"18.3034\" r=\"3\"/>\n",
       "</svg>\n"
      ]
     },
     "execution_count": 9,
     "metadata": {},
     "output_type": "execute_result"
    }
   ],
   "source": [
    "scatter(v, legend = :none)"
   ]
  },
  {
   "cell_type": "code",
   "execution_count": null,
   "metadata": {
    "collapsed": true
   },
   "outputs": [],
   "source": []
  }
 ],
 "metadata": {
  "kernelspec": {
   "display_name": "Julia 0.6.0",
   "language": "julia",
   "name": "julia-0.6"
  },
  "language_info": {
   "file_extension": ".jl",
   "mimetype": "application/julia",
   "name": "julia",
   "version": "0.6.2"
  }
 },
 "nbformat": 4,
 "nbformat_minor": 2
}
