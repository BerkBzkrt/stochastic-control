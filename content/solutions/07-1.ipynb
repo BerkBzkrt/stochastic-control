{
 "cells": [
  {
   "cell_type": "markdown",
   "metadata": {},
   "source": [
    "The parameters given in the problem statement are as follows"
   ]
  },
  {
   "cell_type": "code",
   "execution_count": 1,
   "metadata": {},
   "outputs": [
    {
     "data": {
      "text/plain": [
       "(0, 1)"
      ]
     },
     "execution_count": 1,
     "metadata": {},
     "output_type": "execute_result"
    }
   ],
   "source": [
    "T = 6\n",
    "α = 1\n",
    "β = 1\n",
    "s = 0.6\n",
    "ξ(m,n) = (m+1)/(m+n+1)\n",
    "(A,B) = (0,1)"
   ]
  },
  {
   "cell_type": "markdown",
   "metadata": {},
   "source": [
    "The reachable set of states at time $t$ are given by $\\{ (m,n) : m + n < t \\}$. Since we are solving the system only for a small horizon, we store the value function as a $t \\times t$ matrix, and only fill in the values corresponding to the reachable set"
   ]
  },
  {
   "cell_type": "code",
   "execution_count": 2,
   "metadata": {},
   "outputs": [],
   "source": [
    "# Initialize data strcutures\n",
    "using OffsetArrays\n",
    "\n",
    "V = [ OffsetArray{Nullable{Float64}}(0:t,0:t) for t in 1:T+1]\n",
    "QA = [ OffsetArray{Nullable{Float64}}(0:t,0:t) for t in 1:T]\n",
    "QB = [ OffsetArray{Nullable{Float64}}(0:t,0:t) for t in 1:T]\n",
    "g = [ OffsetArray{Nullable{Int}}(0:t,0:t) for t in 1:T]\n",
    "chooseA = [ [] for t in 1:T ]\n",
    "chooseB = [ [] for t in 1:T ]\n",
    "\n",
    "\n",
    "for t in 1:T+1\n",
    "    for m in 0:t, n in 0:t\n",
    "        V[t][m,n] = nothing\n",
    "        if t != T+1\n",
    "            QA[t][m,n] = nothing\n",
    "            QB[t][m,n] = nothing\n",
    "            g[t][m,n] = nothing\n",
    "        end\n",
    "    end\n",
    "end"
   ]
  },
  {
   "cell_type": "markdown",
   "metadata": {},
   "source": [
    "Initialize the value function for $T+1$"
   ]
  },
  {
   "cell_type": "code",
   "execution_count": 3,
   "metadata": {},
   "outputs": [],
   "source": [
    "for m in 0:T+1, n in 0:(T-m)    \n",
    "    V[T+1][m,n] = 0.0\n",
    "end"
   ]
  },
  {
   "cell_type": "markdown",
   "metadata": {},
   "source": [
    "Now we write the dynamic programming recursion"
   ]
  },
  {
   "cell_type": "code",
   "execution_count": 4,
   "metadata": {},
   "outputs": [],
   "source": [
    "for t in T:-1:1\n",
    "    for m in 0:t, n in 0:(t-1-m)\n",
    "        QA[t][m,n] = α*s + get(V[t+1][m,n])\n",
    "        p = ξ(m,n)\n",
    "        QB[t][m,n] = β*p + p*get(V[t+1][m+1,n]) + (1-p)*get(V[t+1][m,n+1])\n",
    "        if get(QA[t][m,n]) >= get(QB[t][m,n])\n",
    "            (V[t][m,n], g[t][m,n]) = (get(QA[t][m,n]), 0)\n",
    "            push!(chooseA[t], (m,n))\n",
    "        else\n",
    "            (V[t][m,n], g[t][m,n]) = (get(QB[t][m,n]), 1)\n",
    "            push!(chooseB[t], (m,n))\n",
    "        end\n",
    "    end\n",
    "end\n"
   ]
  },
  {
   "cell_type": "code",
   "execution_count": 5,
   "metadata": {},
   "outputs": [
    {
     "name": "stdout",
     "output_type": "stream",
     "text": [
      "The indices where it is optimal to choose action A\n",
      "t = 1: Any[] \n",
      "t = 2: Any[] \n",
      "t = 3: Any[(0, 2)] \n",
      "t = 4: Any[(0, 1), (0, 2), (0, 3), (1, 2)] \n",
      "t = 5: Any[(0, 1), (0, 2), (0, 3), (0, 4), (1, 2), (1, 3)] \n",
      "t = 6: Any[(0, 1), (0, 2), (0, 3), (0, 4), (0, 5), (1, 2), (1, 3), (1, 4), (2, 2), (2, 3)] \n"
     ]
    }
   ],
   "source": [
    "@printf(\"The indices where it is optimal to choose action A\\n\")\n",
    "for t in 1:T\n",
    "    @printf(\"t = %d: %s \\n\", t, chooseA[t])\n",
    "end"
   ]
  },
  {
   "cell_type": "code",
   "execution_count": 6,
   "metadata": {},
   "outputs": [
    {
     "name": "stdout",
     "output_type": "stream",
     "text": [
      "The indices where it is optimal to choose action B\n",
      "t = 1: Any[(0, 0)] \n",
      "t = 2: Any[(0, 0), (0, 1), (1, 0)] \n",
      "t = 3: Any[(0, 0), (0, 1), (1, 0), (1, 1), (2, 0)] \n",
      "t = 4: Any[(0, 0), (1, 0), (1, 1), (2, 0), (2, 1), (3, 0)] \n",
      "t = 5: Any[(0, 0), (1, 0), (1, 1), (2, 0), (2, 1), (2, 2), (3, 0), (3, 1), (4, 0)] \n",
      "t = 6: Any[(0, 0), (1, 0), (1, 1), (2, 0), (2, 1), (3, 0), (3, 1), (3, 2), (4, 0), (4, 1), (5, 0)] \n"
     ]
    }
   ],
   "source": [
    "@printf(\"The indices where it is optimal to choose action B\\n\")\n",
    "for t in 1:T\n",
    "    @printf(\"t = %d: %s \\n\", t, chooseB[t])\n",
    "end"
   ]
  }
 ],
 "metadata": {
  "kernelspec": {
   "display_name": "Julia 0.6.0",
   "language": "julia",
   "name": "julia-0.6"
  },
  "language_info": {
   "file_extension": ".jl",
   "mimetype": "application/julia",
   "name": "julia",
   "version": "0.6.2"
  }
 },
 "nbformat": 4,
 "nbformat_minor": 2
}
